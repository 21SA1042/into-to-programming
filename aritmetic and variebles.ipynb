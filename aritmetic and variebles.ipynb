{
 "cells": [
  {
   "cell_type": "markdown",
   "metadata": {},
   "source": [
    "Intro to Programming"
   ]
  },
  {
   "cell_type": "code",
   "execution_count": 1,
   "metadata": {},
   "outputs": [
    {
     "name": "stdout",
     "output_type": "stream",
     "text": [
      "Hello, world\n"
     ]
    }
   ],
   "source": [
    "print(\"Hello, world\")"
   ]
  },
  {
   "cell_type": "markdown",
   "metadata": {},
   "source": [
    "- print() adalah fungsi bawaan Python yang digunakan untuk mencetak atau menampilkan informasi ke konsol atau terminal.\n",
    "- \"Hello, world!\" adalah argumen yang diberikan kepada fungsi print(). \n",
    "- Ketika kode dieksekusi, hasilnya adalah mencetak \"Hello, world!\" ke dalam konsol atau terminal."
   ]
  },
  {
   "cell_type": "code",
   "execution_count": 2,
   "metadata": {},
   "outputs": [
    {
     "name": "stdout",
     "output_type": "stream",
     "text": [
      "3\n"
     ]
    }
   ],
   "source": [
    "print(1 + 2)"
   ]
  },
  {
   "cell_type": "code",
   "execution_count": 3,
   "metadata": {},
   "outputs": [
    {
     "name": "stdout",
     "output_type": "stream",
     "text": [
      "4\n"
     ]
    }
   ],
   "source": [
    "print(9 - 5)\n"
   ]
  },
  {
   "cell_type": "markdown",
   "metadata": {},
   "source": [
    "Aritmatika"
   ]
  },
  {
   "cell_type": "markdown",
   "metadata": {},
   "source": [
    "Kita juga dapat mencetak nilai dari beberapa operasi aritmatika (seperti penambahan, pengurangan, perkalian, atau pembagian).\n",
    "\n",
    "Sebagai contoh, pada sel kode berikut, komputer menambahkan 2 dengan 1 dan kemudian mencetak hasilnya, yang adalah 3. Perlu diperhatikan bahwa berbeda dengan saat kita hanya mencetak teks, kita tidak menggunakan tanda kutip apapun."
   ]
  },
  {
   "cell_type": "code",
   "execution_count": 4,
   "metadata": {},
   "outputs": [
    {
     "name": "stdout",
     "output_type": "stream",
     "text": [
      "196.0\n"
     ]
    }
   ],
   "source": [
    "print(((1 + 3) * (9 - 2) / 2) ** 2)"
   ]
  },
  {
   "cell_type": "markdown",
   "metadata": {},
   "source": [
    "Anda dapat mengontrol urutan operasi dalam perhitungan yang panjang dengan menggunakan tanda kurung."
   ]
  },
  {
   "cell_type": "code",
   "execution_count": 5,
   "metadata": {},
   "outputs": [
    {
     "name": "stdout",
     "output_type": "stream",
     "text": [
      "6\n"
     ]
    }
   ],
   "source": [
    "# Multiply 3 by 2\n",
    "print(3 * 2)\n"
   ]
  },
  {
   "cell_type": "markdown",
   "metadata": {},
   "source": [
    "Comments"
   ]
  },
  {
   "cell_type": "markdown",
   "metadata": {},
   "source": [
    "\n",
    "Kami menggunakan komentar untuk memberi anotasi tentang apa yang dilakukan oleh kode. Mereka membantu orang lain memahami kode Anda, dan mereka juga dapat membantu jika Anda belum melihat kode Anda dalam waktu yang lama. Sejauh ini, kode yang telah kita tulis sangat singkat, tetapi anotasi menjadi lebih penting ketika Anda telah menulis banyak kode.\n",
    "\n",
    "Sebagai contoh, pada sel kode berikut, kami mengalikan 3 dengan 2. Kami juga menambahkan sebuah komentar (# Kalikan 3 dengan 2) di atas kode untuk menjelaskan apa yang dilakukan oleh kode tersebut."
   ]
  },
  {
   "cell_type": "code",
   "execution_count": 6,
   "metadata": {},
   "outputs": [
    {
     "ename": "SyntaxError",
     "evalue": "invalid syntax (3840778346.py, line 1)",
     "output_type": "error",
     "traceback": [
      "\u001b[1;36m  Cell \u001b[1;32mIn[6], line 1\u001b[1;36m\u001b[0m\n\u001b[1;33m    Multiply 3 by 2\u001b[0m\n\u001b[1;37m             ^\u001b[0m\n\u001b[1;31mSyntaxError\u001b[0m\u001b[1;31m:\u001b[0m invalid syntax\n"
     ]
    }
   ],
   "source": [
    "Multiply 3 by 2\n"
   ]
  },
  {
   "cell_type": "markdown",
   "metadata": {},
   "source": [
    "Untuk menunjukkan kepada Python bahwa suatu baris adalah komentar (dan bukan kode Python), Anda perlu menulis tanda pagar (#) sebagai karakter pertama.\n",
    "\n",
    "Setelah Python melihat tanda pagar dan mengenali bahwa baris tersebut adalah komentar, komputer akan sepenuhnya mengabaikannya. Ini penting, karena sama seperti Bahasa Inggris atau Hindi (atau bahasa lainnya!), Python adalah bahasa dengan aturan yang sangat ketat yang harus diikuti. Python lebih ketat daripada pendengar manusia, dan akan menghasilkan kesalahan jika tidak dapat memahami kode tersebut.\n",
    "\n",
    "Kita dapat melihat contoh ini, dalam sel kode di atas ini. Python akan menghasilkan kesalahan jika kita menghapus tanda pagar, karena teks dalam komentar bukan kode Python yang valid, sehingga tidak dapat diinterpretasikan dengan benar."
   ]
  },
  {
   "cell_type": "code",
   "execution_count": 7,
   "metadata": {},
   "outputs": [
    {
     "name": "stdout",
     "output_type": "stream",
     "text": [
      "9\n"
     ]
    }
   ],
   "source": [
    "# Create a variable called test_var and give it a value of 4+5\n",
    "test_var = 4 + 5\n",
    "\n",
    "# Print the value of test_var\n",
    "print(test_var)"
   ]
  },
  {
   "cell_type": "markdown",
   "metadata": {},
   "source": [
    "Variables"
   ]
  },
  {
   "cell_type": "markdown",
   "metadata": {},
   "source": [
    "Creating variables"
   ]
  }
 ],
 "metadata": {
  "kernelspec": {
   "display_name": "Python 3",
   "language": "python",
   "name": "python3"
  },
  "language_info": {
   "codemirror_mode": {
    "name": "ipython",
    "version": 3
   },
   "file_extension": ".py",
   "mimetype": "text/x-python",
   "name": "python",
   "nbconvert_exporter": "python",
   "pygments_lexer": "ipython3",
   "version": "3.11.1"
  }
 },
 "nbformat": 4,
 "nbformat_minor": 2
}
